{
 "cells": [
  {
   "cell_type": "code",
   "execution_count": 1,
   "metadata": {},
   "outputs": [],
   "source": [
    "import requests\n",
    "import json\n",
    "import pandas as pd\n",
    "from tqdm import tqdm"
   ]
  },
  {
   "cell_type": "code",
   "execution_count": 29,
   "metadata": {},
   "outputs": [],
   "source": [
    "headers = {\"User-Agent\": \"Mozilla/5.0 (Windows NT 10.0; Win64; x64) AppleWebKit/537.36 (KHTML, like Gecko) Chrome/114.0.0.0 Safari/537.36\",\n",
    "}\n",
    "params = {\n",
    "    \"limit\": \"48\", # limit number of items each page\n",
    "    \"include\": \"advertisement\",\n",
    "    \"aggregation\": \"2\",\n",
    "    \"category\": \"1846\",\n",
    "    #\"page\": \"1\", # page number\n",
    "    \"urlkey\": \"laptop-may-vi-tinh-linh-kien\" # product category\n",
    "}\n",
    "new_api_request_url = \"https://tiki.vn/api/v2/products\" # new api from tiki developer\n",
    "old_api_request_url = \"https://tiki.vn/api/personalish/v1/blocks/listings\" # current api from tiki webpage\n",
    "#pageNum = 1\n",
    "product_id_list = []\n",
    "df_id = pd.DataFrame([], columns=[\"id\"])\n",
    "# old api page: 2000 - 209   2000 - 209\n",
    "# old api no page: 47376 - 988\n",
    "# new-api-page : 2000 - 198  2000 - 199  2000 - 240 \n",
    "# new-api-no page:  10080 - 211    8400 - 176"
   ]
  },
  {
   "attachments": {},
   "cell_type": "markdown",
   "metadata": {},
   "source": [
    "<b>Fetch Product ID Data<b>"
   ]
  },
  {
   "cell_type": "code",
   "execution_count": 30,
   "metadata": {},
   "outputs": [
    {
     "name": "stdout",
     "output_type": "stream",
     "text": [
      "Reach 2000 items\n",
      "0\n"
     ]
    },
    {
     "ename": "JSONDecodeError",
     "evalue": "Expecting value: line 1 column 1 (char 0)",
     "output_type": "error",
     "traceback": [
      "\u001b[1;31m---------------------------------------------------------------------------\u001b[0m",
      "\u001b[1;31mJSONDecodeError\u001b[0m                           Traceback (most recent call last)",
      "File \u001b[1;32m~\\AppData\\Local\\Packages\\PythonSoftwareFoundation.Python.3.10_qbz5n2kfra8p0\\LocalCache\\local-packages\\Python310\\site-packages\\requests\\models.py:971\u001b[0m, in \u001b[0;36mResponse.json\u001b[1;34m(self, **kwargs)\u001b[0m\n\u001b[0;32m    970\u001b[0m \u001b[39mtry\u001b[39;00m:\n\u001b[1;32m--> 971\u001b[0m     \u001b[39mreturn\u001b[39;00m complexjson\u001b[39m.\u001b[39mloads(\u001b[39mself\u001b[39m\u001b[39m.\u001b[39mtext, \u001b[39m*\u001b[39m\u001b[39m*\u001b[39mkwargs)\n\u001b[0;32m    972\u001b[0m \u001b[39mexcept\u001b[39;00m JSONDecodeError \u001b[39mas\u001b[39;00m e:\n\u001b[0;32m    973\u001b[0m     \u001b[39m# Catch JSON-related errors and raise as requests.JSONDecodeError\u001b[39;00m\n\u001b[0;32m    974\u001b[0m     \u001b[39m# This aliases json.JSONDecodeError and simplejson.JSONDecodeError\u001b[39;00m\n",
      "File \u001b[1;32mC:\\Program Files\\WindowsApps\\PythonSoftwareFoundation.Python.3.10_3.10.3056.0_x64__qbz5n2kfra8p0\\lib\\json\\__init__.py:346\u001b[0m, in \u001b[0;36mloads\u001b[1;34m(s, cls, object_hook, parse_float, parse_int, parse_constant, object_pairs_hook, **kw)\u001b[0m\n\u001b[0;32m    343\u001b[0m \u001b[39mif\u001b[39;00m (\u001b[39mcls\u001b[39m \u001b[39mis\u001b[39;00m \u001b[39mNone\u001b[39;00m \u001b[39mand\u001b[39;00m object_hook \u001b[39mis\u001b[39;00m \u001b[39mNone\u001b[39;00m \u001b[39mand\u001b[39;00m\n\u001b[0;32m    344\u001b[0m         parse_int \u001b[39mis\u001b[39;00m \u001b[39mNone\u001b[39;00m \u001b[39mand\u001b[39;00m parse_float \u001b[39mis\u001b[39;00m \u001b[39mNone\u001b[39;00m \u001b[39mand\u001b[39;00m\n\u001b[0;32m    345\u001b[0m         parse_constant \u001b[39mis\u001b[39;00m \u001b[39mNone\u001b[39;00m \u001b[39mand\u001b[39;00m object_pairs_hook \u001b[39mis\u001b[39;00m \u001b[39mNone\u001b[39;00m \u001b[39mand\u001b[39;00m \u001b[39mnot\u001b[39;00m kw):\n\u001b[1;32m--> 346\u001b[0m     \u001b[39mreturn\u001b[39;00m _default_decoder\u001b[39m.\u001b[39;49mdecode(s)\n\u001b[0;32m    347\u001b[0m \u001b[39mif\u001b[39;00m \u001b[39mcls\u001b[39m \u001b[39mis\u001b[39;00m \u001b[39mNone\u001b[39;00m:\n",
      "File \u001b[1;32mC:\\Program Files\\WindowsApps\\PythonSoftwareFoundation.Python.3.10_3.10.3056.0_x64__qbz5n2kfra8p0\\lib\\json\\decoder.py:337\u001b[0m, in \u001b[0;36mJSONDecoder.decode\u001b[1;34m(self, s, _w)\u001b[0m\n\u001b[0;32m    333\u001b[0m \u001b[39m\u001b[39m\u001b[39m\"\"\"Return the Python representation of ``s`` (a ``str`` instance\u001b[39;00m\n\u001b[0;32m    334\u001b[0m \u001b[39mcontaining a JSON document).\u001b[39;00m\n\u001b[0;32m    335\u001b[0m \n\u001b[0;32m    336\u001b[0m \u001b[39m\"\"\"\u001b[39;00m\n\u001b[1;32m--> 337\u001b[0m obj, end \u001b[39m=\u001b[39m \u001b[39mself\u001b[39;49m\u001b[39m.\u001b[39;49mraw_decode(s, idx\u001b[39m=\u001b[39;49m_w(s, \u001b[39m0\u001b[39;49m)\u001b[39m.\u001b[39;49mend())\n\u001b[0;32m    338\u001b[0m end \u001b[39m=\u001b[39m _w(s, end)\u001b[39m.\u001b[39mend()\n",
      "File \u001b[1;32mC:\\Program Files\\WindowsApps\\PythonSoftwareFoundation.Python.3.10_3.10.3056.0_x64__qbz5n2kfra8p0\\lib\\json\\decoder.py:355\u001b[0m, in \u001b[0;36mJSONDecoder.raw_decode\u001b[1;34m(self, s, idx)\u001b[0m\n\u001b[0;32m    354\u001b[0m \u001b[39mexcept\u001b[39;00m \u001b[39mStopIteration\u001b[39;00m \u001b[39mas\u001b[39;00m err:\n\u001b[1;32m--> 355\u001b[0m     \u001b[39mraise\u001b[39;00m JSONDecodeError(\u001b[39m\"\u001b[39m\u001b[39mExpecting value\u001b[39m\u001b[39m\"\u001b[39m, s, err\u001b[39m.\u001b[39mvalue) \u001b[39mfrom\u001b[39;00m \u001b[39mNone\u001b[39;00m\n\u001b[0;32m    356\u001b[0m \u001b[39mreturn\u001b[39;00m obj, end\n",
      "\u001b[1;31mJSONDecodeError\u001b[0m: Expecting value: line 1 column 1 (char 0)",
      "\nDuring handling of the above exception, another exception occurred:\n",
      "\u001b[1;31mJSONDecodeError\u001b[0m                           Traceback (most recent call last)",
      "Cell \u001b[1;32mIn[30], line 9\u001b[0m\n\u001b[0;32m      5\u001b[0m response \u001b[39m=\u001b[39m requests\u001b[39m.\u001b[39mget(new_api_request_url, headers\u001b[39m=\u001b[39mheaders, params\u001b[39m=\u001b[39mparams)\n\u001b[0;32m      6\u001b[0m \u001b[39mif\u001b[39;00m response\u001b[39m.\u001b[39mstatus_code \u001b[39m==\u001b[39m \u001b[39m200\u001b[39m:\n\u001b[0;32m      7\u001b[0m     \u001b[39m#print(\"Crawling data successfully\")\u001b[39;00m\n\u001b[0;32m      8\u001b[0m     \u001b[39m#products = json.loads(response.text)[\"data\"]\u001b[39;00m\n\u001b[1;32m----> 9\u001b[0m     \u001b[39mfor\u001b[39;00m product \u001b[39min\u001b[39;00m response\u001b[39m.\u001b[39;49mjson()[\u001b[39m\"\u001b[39m\u001b[39mdata\u001b[39m\u001b[39m\"\u001b[39m]:\n\u001b[0;32m     10\u001b[0m         \u001b[39mid\u001b[39m \u001b[39m=\u001b[39m \u001b[39mstr\u001b[39m(product[\u001b[39m\"\u001b[39m\u001b[39mid\u001b[39m\u001b[39m\"\u001b[39m])\n\u001b[0;32m     11\u001b[0m         product_id_list\u001b[39m.\u001b[39mappend(\u001b[39mid\u001b[39m)\n",
      "File \u001b[1;32m~\\AppData\\Local\\Packages\\PythonSoftwareFoundation.Python.3.10_qbz5n2kfra8p0\\LocalCache\\local-packages\\Python310\\site-packages\\requests\\models.py:975\u001b[0m, in \u001b[0;36mResponse.json\u001b[1;34m(self, **kwargs)\u001b[0m\n\u001b[0;32m    971\u001b[0m     \u001b[39mreturn\u001b[39;00m complexjson\u001b[39m.\u001b[39mloads(\u001b[39mself\u001b[39m\u001b[39m.\u001b[39mtext, \u001b[39m*\u001b[39m\u001b[39m*\u001b[39mkwargs)\n\u001b[0;32m    972\u001b[0m \u001b[39mexcept\u001b[39;00m JSONDecodeError \u001b[39mas\u001b[39;00m e:\n\u001b[0;32m    973\u001b[0m     \u001b[39m# Catch JSON-related errors and raise as requests.JSONDecodeError\u001b[39;00m\n\u001b[0;32m    974\u001b[0m     \u001b[39m# This aliases json.JSONDecodeError and simplejson.JSONDecodeError\u001b[39;00m\n\u001b[1;32m--> 975\u001b[0m     \u001b[39mraise\u001b[39;00m RequestsJSONDecodeError(e\u001b[39m.\u001b[39mmsg, e\u001b[39m.\u001b[39mdoc, e\u001b[39m.\u001b[39mpos)\n",
      "\u001b[1;31mJSONDecodeError\u001b[0m: Expecting value: line 1 column 1 (char 0)"
     ]
    }
   ],
   "source": [
    "while True:       \n",
    "    '''With the page number param available, data return only 2000 items -> I will block it to get as much data as possible''' \n",
    "    #print(\"Crawl page number: \", pageNum)\n",
    "    #params[\"page\"] = pageNum\n",
    "    response = requests.get(new_api_request_url, headers=headers, params=params)\n",
    "    if response.status_code == 200:\n",
    "        #print(\"Crawling data successfully\")\n",
    "        #products = json.loads(response.text)[\"data\"]\n",
    "        for product in response.json()[\"data\"]:\n",
    "            id = str(product[\"id\"])\n",
    "            product_id_list.append(id)\n",
    "    else:\n",
    "        print(f\"Error, status code = {response.status_code}\")\n",
    "        break\n",
    "\n",
    "    # Divided each batch with maximum 2000 items \n",
    "    if(len(product_id_list) % 2000 == 0):\n",
    "        print(\"Reach 2000 items\")\n",
    "        df_temp = pd.DataFrame(product_id_list, columns=[\"id\"])\n",
    "        df_id = pd.concat([df_id, df_temp], ignore_index=True)\n",
    "        # Truncate all the list\n",
    "        del product_id_list[:]\n",
    "        print(len(product_id_list))\n",
    "        \n",
    "    #pageNum+=1"
   ]
  },
  {
   "cell_type": "code",
   "execution_count": 31,
   "metadata": {},
   "outputs": [
    {
     "name": "stdout",
     "output_type": "stream",
     "text": [
      "4320\n"
     ]
    },
    {
     "data": {
      "text/plain": [
       "(6000, 1)"
      ]
     },
     "execution_count": 31,
     "metadata": {},
     "output_type": "execute_result"
    }
   ],
   "source": [
    "print(len(product_id_list))\n",
    "df_id.shape"
   ]
  },
  {
   "cell_type": "code",
   "execution_count": 32,
   "metadata": {},
   "outputs": [
    {
     "name": "stdout",
     "output_type": "stream",
     "text": [
      "0\n"
     ]
    },
    {
     "data": {
      "text/plain": [
       "(10320, 1)"
      ]
     },
     "execution_count": 32,
     "metadata": {},
     "output_type": "execute_result"
    }
   ],
   "source": [
    "# Fill out the list that not reach 2000 items\n",
    "df_temp = pd.DataFrame(product_id_list, columns=[\"id\"])\n",
    "df_id = pd.concat([df_id, df_temp], ignore_index=True)\n",
    "# Truncate all the list\n",
    "del product_id_list[:]\n",
    "print(len(product_id_list))\n",
    "df_id.shape"
   ]
  },
  {
   "cell_type": "code",
   "execution_count": 33,
   "metadata": {},
   "outputs": [
    {
     "data": {
      "text/html": [
       "<div>\n",
       "<style scoped>\n",
       "    .dataframe tbody tr th:only-of-type {\n",
       "        vertical-align: middle;\n",
       "    }\n",
       "\n",
       "    .dataframe tbody tr th {\n",
       "        vertical-align: top;\n",
       "    }\n",
       "\n",
       "    .dataframe thead th {\n",
       "        text-align: right;\n",
       "    }\n",
       "</style>\n",
       "<table border=\"1\" class=\"dataframe\">\n",
       "  <thead>\n",
       "    <tr style=\"text-align: right;\">\n",
       "      <th></th>\n",
       "      <th>id</th>\n",
       "    </tr>\n",
       "  </thead>\n",
       "  <tbody>\n",
       "    <tr>\n",
       "      <th>0</th>\n",
       "      <td>38323087</td>\n",
       "    </tr>\n",
       "    <tr>\n",
       "      <th>1</th>\n",
       "      <td>26314426</td>\n",
       "    </tr>\n",
       "    <tr>\n",
       "      <th>2</th>\n",
       "      <td>134561311</td>\n",
       "    </tr>\n",
       "    <tr>\n",
       "      <th>3</th>\n",
       "      <td>8608925</td>\n",
       "    </tr>\n",
       "    <tr>\n",
       "      <th>4</th>\n",
       "      <td>46634155</td>\n",
       "    </tr>\n",
       "  </tbody>\n",
       "</table>\n",
       "</div>"
      ],
      "text/plain": [
       "          id\n",
       "0   38323087\n",
       "1   26314426\n",
       "2  134561311\n",
       "3    8608925\n",
       "4   46634155"
      ]
     },
     "execution_count": 33,
     "metadata": {},
     "output_type": "execute_result"
    }
   ],
   "source": [
    "df_id.head()"
   ]
  },
  {
   "cell_type": "code",
   "execution_count": 34,
   "metadata": {},
   "outputs": [],
   "source": [
    "list_temp = df_id[\"id\"].values.tolist()"
   ]
  },
  {
   "cell_type": "code",
   "execution_count": 35,
   "metadata": {},
   "outputs": [
    {
     "name": "stdout",
     "output_type": "stream",
     "text": [
      "10320\n"
     ]
    }
   ],
   "source": [
    "print(len(list_temp))"
   ]
  },
  {
   "attachments": {},
   "cell_type": "markdown",
   "metadata": {},
   "source": [
    "<b> Fetch Product Details Data <b>"
   ]
  },
  {
   "cell_type": "code",
   "execution_count": 75,
   "metadata": {},
   "outputs": [],
   "source": [
    "url = \"https://tiki.vn/api/v2/products/{}\"\n",
    "pars = {\"platform\": \"web\", \n",
    "        \"spid\": \"124939771\"\n",
    "}\n",
    "product_detail_list = []\n",
    "product_json_list = []\n",
    "df_product = pd.DataFrame([])"
   ]
  },
  {
   "cell_type": "code",
   "execution_count": 76,
   "metadata": {},
   "outputs": [
    {
     "name": "stderr",
     "output_type": "stream",
     "text": [
      " 30%|███       | 3120/10320 [16:14<36:55,  3.25it/s]  "
     ]
    },
    {
     "name": "stdout",
     "output_type": "stream",
     "text": [
      "Reach 2000 items\n",
      "0 0\n"
     ]
    },
    {
     "name": "stderr",
     "output_type": "stream",
     "text": [
      " 62%|██████▏   | 6446/10320 [33:05<22:42,  2.84it/s]  "
     ]
    },
    {
     "name": "stdout",
     "output_type": "stream",
     "text": [
      "Reach 2000 items\n",
      "0 0\n"
     ]
    },
    {
     "name": "stderr",
     "output_type": "stream",
     "text": [
      " 94%|█████████▍| 9738/10320 [49:49<03:35,  2.70it/s]"
     ]
    },
    {
     "name": "stdout",
     "output_type": "stream",
     "text": [
      "Reach 2000 items\n",
      "0 0\n"
     ]
    },
    {
     "name": "stderr",
     "output_type": "stream",
     "text": [
      "100%|██████████| 10320/10320 [52:52<00:00,  3.25it/s]\n"
     ]
    }
   ],
   "source": [
    "for id in tqdm(list_temp, total=len(list_temp)):\n",
    "    response = requests.get('https://tiki.vn/api/v2/products/{}'.format(id), headers=headers, params=pars)\n",
    "    if(response.status_code==200):\n",
    "        # Extract value attributes\n",
    "        # product[\"id\"] = response.json()['id']\n",
    "        # product[\"name\"] = response.json()['name']\n",
    "        # product[\"sku\"] = response.json()['sku']\n",
    "        # product[\"price\"] = response.json()['price']\n",
    "        # product[\"list_price\"] = response.json()['list_price']\n",
    "        # product[\"discount\"] = response.json()['discount']\n",
    "        # product[\"discount_rate\"] = response.json()['discount_rate']\n",
    "        # product[\"inventory_status\"] = response.json()['inventory_status']\n",
    "        # product[\"stock_item_max_sale_qty\"] = response.json()['stock_item']['max_sale_qty']\n",
    "        # product[\"stock_item_qty\"] = response.json()['stock_item']['qty']\n",
    "        # product[\"qty_sold\"] = response.json()['all_time_quantity_sold']\n",
    "        # product[\"brand_id\"] = response.json()['brand']['id']\n",
    "        # product[\"brand_name\"] = response.json()['brand']['name']\n",
    "        # product_detail_list.append(product)\n",
    "        #----------------\n",
    "        try:\n",
    "            #product_detail_list.append(response.text)\n",
    "            product = json.loads(response.text)         \n",
    "            product_detail_list.append(product)\n",
    "        except:\n",
    "            #print(\"Something else went wrong\")\n",
    "            pass\n",
    "\n",
    "    else:\n",
    "        print(f\"Error, status code = {response.status_code}\")\n",
    "        pass\n",
    "\n",
    "    # Divided each batch with maximum 2000 items \n",
    "    if(len(product_detail_list) == 2000):\n",
    "        print(\"Reach 2000 items\")\n",
    "        # product_json_list = [adjust_product(p) for p in product_detail_list]\n",
    "        # df_temp = pd.DataFrame.from_dict(product_json_list)\n",
    "        df_temp = pd.DataFrame.from_dict(product_detail_list)\n",
    "        df_product = pd.concat([df_product, df_temp], ignore_index=True)\n",
    "        # Truncate all the list\n",
    "        del product_detail_list[:]\n",
    "        del product_json_list[:]\n",
    "        print(len(product_detail_list), len(product_json_list))\n",
    "    \n",
    "        "
   ]
  },
  {
   "cell_type": "code",
   "execution_count": 78,
   "metadata": {},
   "outputs": [
    {
     "name": "stdout",
     "output_type": "stream",
     "text": [
      "367\n"
     ]
    },
    {
     "data": {
      "text/plain": [
       "(6000, 70)"
      ]
     },
     "execution_count": 78,
     "metadata": {},
     "output_type": "execute_result"
    }
   ],
   "source": [
    "print(len(product_detail_list))\n",
    "df_product.shape"
   ]
  },
  {
   "cell_type": "code",
   "execution_count": 80,
   "metadata": {},
   "outputs": [
    {
     "name": "stdout",
     "output_type": "stream",
     "text": [
      "0\n"
     ]
    },
    {
     "data": {
      "text/plain": [
       "(6367, 70)"
      ]
     },
     "execution_count": 80,
     "metadata": {},
     "output_type": "execute_result"
    }
   ],
   "source": [
    "# Fill out the list that not reach 2000 items\n",
    "df_temp = pd.DataFrame.from_dict(product_detail_list)\n",
    "df_product = pd.concat([df_product, df_temp], ignore_index=True)\n",
    "# Truncate all the list\n",
    "del product_detail_list[:]\n",
    "print(len(product_detail_list))\n",
    "df_product.shape"
   ]
  },
  {
   "cell_type": "code",
   "execution_count": 81,
   "metadata": {},
   "outputs": [
    {
     "data": {
      "text/html": [
       "<div>\n",
       "<style scoped>\n",
       "    .dataframe tbody tr th:only-of-type {\n",
       "        vertical-align: middle;\n",
       "    }\n",
       "\n",
       "    .dataframe tbody tr th {\n",
       "        vertical-align: top;\n",
       "    }\n",
       "\n",
       "    .dataframe thead th {\n",
       "        text-align: right;\n",
       "    }\n",
       "</style>\n",
       "<table border=\"1\" class=\"dataframe\">\n",
       "  <thead>\n",
       "    <tr style=\"text-align: right;\">\n",
       "      <th></th>\n",
       "      <th>id</th>\n",
       "      <th>master_id</th>\n",
       "      <th>sku</th>\n",
       "      <th>name</th>\n",
       "      <th>url_key</th>\n",
       "      <th>url_path</th>\n",
       "      <th>short_url</th>\n",
       "      <th>type</th>\n",
       "      <th>book_cover</th>\n",
       "      <th>short_description</th>\n",
       "      <th>...</th>\n",
       "      <th>inventory</th>\n",
       "      <th>warranty_info</th>\n",
       "      <th>return_and_exchange_policy</th>\n",
       "      <th>is_tier_pricing_available</th>\n",
       "      <th>is_tier_pricing_eligible</th>\n",
       "      <th>asa_cashback_widget</th>\n",
       "      <th>benefits</th>\n",
       "      <th>price_comparison</th>\n",
       "      <th>video_url</th>\n",
       "      <th>best_price_guaranteed</th>\n",
       "    </tr>\n",
       "  </thead>\n",
       "  <tbody>\n",
       "    <tr>\n",
       "      <th>0</th>\n",
       "      <td>38323087</td>\n",
       "      <td>38323087</td>\n",
       "      <td>9386902161867</td>\n",
       "      <td>(Giá Hủy Diệt) Ổ Cứng Di Động HDD WD My Passpo...</td>\n",
       "      <td>o-cung-di-dong-wd-my-passport-model-2019-hang-...</td>\n",
       "      <td>o-cung-di-dong-wd-my-passport-model-2019-hang-...</td>\n",
       "      <td>https://tiki.vn/product-p38323087.html?spid=53...</td>\n",
       "      <td>configurable</td>\n",
       "      <td>None</td>\n",
       "      <td>Thông số kỹ thuật WD My Passport màu đen mode...</td>\n",
       "      <td>...</td>\n",
       "      <td>{'product_virtual_type': None, 'fulfillment_ty...</td>\n",
       "      <td>[{'name': 'Thời gian bảo hành', 'value': '36 T...</td>\n",
       "      <td>Đổi trả trong&lt;br&gt;&lt;b&gt;7 ngày&lt;/b&gt;&lt;br&gt;nếu sp lỗi.</td>\n",
       "      <td>False</td>\n",
       "      <td>False</td>\n",
       "      <td>{'sep': 0, 'rate': 213, 'astra_convert_rate': ...</td>\n",
       "      <td>[{'icon': 'https://salt.tikicdn.com/ts/upload/...</td>\n",
       "      <td>NaN</td>\n",
       "      <td>NaN</td>\n",
       "      <td>NaN</td>\n",
       "    </tr>\n",
       "    <tr>\n",
       "      <th>1</th>\n",
       "      <td>26314426</td>\n",
       "      <td>26314426</td>\n",
       "      <td>9365508570174</td>\n",
       "      <td>Dây Cáp Mạng Cat6 Bấm Sẵn 2 đầu</td>\n",
       "      <td>day-cap-mang-cat6-bam-san-2-dau-p26314426</td>\n",
       "      <td>day-cap-mang-cat6-bam-san-2-dau-p26314426.html...</td>\n",
       "      <td>https://tiki.vn/product-p26314426.html?spid=14...</td>\n",
       "      <td>configurable</td>\n",
       "      <td>None</td>\n",
       "      <td>+ Cáp mạng CAT6 UTP được sử dụng chất liệu CCA...</td>\n",
       "      <td>...</td>\n",
       "      <td>{'product_virtual_type': None, 'fulfillment_ty...</td>\n",
       "      <td>[{'name': 'Hướng dẫn bảo hành', 'value': 'Xem ...</td>\n",
       "      <td>Đổi trả trong&lt;br&gt;&lt;b&gt;7 ngày&lt;/b&gt;&lt;br&gt;nếu sp lỗi.</td>\n",
       "      <td>False</td>\n",
       "      <td>False</td>\n",
       "      <td>{'sep': 0, 'rate': 213, 'astra_convert_rate': ...</td>\n",
       "      <td>[{'icon': 'https://salt.tikicdn.com/ts/upload/...</td>\n",
       "      <td>{'sub_title': 'Giá từ 32.650 ₫', 'title': '6 n...</td>\n",
       "      <td>NaN</td>\n",
       "      <td>NaN</td>\n",
       "    </tr>\n",
       "    <tr>\n",
       "      <th>2</th>\n",
       "      <td>134561311</td>\n",
       "      <td>134561311</td>\n",
       "      <td>8367091212771</td>\n",
       "      <td>USB 3.0 SanDisk Ultra Flair CZ73 - Hàng Nhập Khẩu</td>\n",
       "      <td>usb-3-0-sandisk-ultra-flair-cz73-64gb-hang-nha...</td>\n",
       "      <td>usb-3-0-sandisk-ultra-flair-cz73-64gb-hang-nha...</td>\n",
       "      <td>https://tiki.vn/product-p134561311.html?spid=9...</td>\n",
       "      <td>configurable</td>\n",
       "      <td>None</td>\n",
       "      <td>Phần mềm bảo vệ và chống truy cập trái phép Se...</td>\n",
       "      <td>...</td>\n",
       "      <td>{'product_virtual_type': None, 'fulfillment_ty...</td>\n",
       "      <td>[{'name': 'Thời gian bảo hành', 'value': '5 Nă...</td>\n",
       "      <td>Đổi trả trong&lt;br&gt;&lt;b&gt;7 ngày&lt;/b&gt;&lt;br&gt;nếu sp lỗi.</td>\n",
       "      <td>False</td>\n",
       "      <td>False</td>\n",
       "      <td>{'sep': 0, 'rate': 213, 'astra_convert_rate': ...</td>\n",
       "      <td>[{'icon': 'https://salt.tikicdn.com/ts/upload/...</td>\n",
       "      <td>NaN</td>\n",
       "      <td>NaN</td>\n",
       "      <td>NaN</td>\n",
       "    </tr>\n",
       "    <tr>\n",
       "      <th>3</th>\n",
       "      <td>8608925</td>\n",
       "      <td>8608925</td>\n",
       "      <td>6460064428402</td>\n",
       "      <td>Hộp mực dành cho máy in Laser Brother HL-L2321D.</td>\n",
       "      <td>hop-muc-may-in-laser-brother-hl-l2321d-p8608925</td>\n",
       "      <td>hop-muc-may-in-laser-brother-hl-l2321d-p860892...</td>\n",
       "      <td>https://tiki.vn/product-p8608925.html?spid=263...</td>\n",
       "      <td>simple</td>\n",
       "      <td>None</td>\n",
       "      <td>Hộp mực TN-2385/2325... hàng thay thế thích hợ...</td>\n",
       "      <td>...</td>\n",
       "      <td>{'product_virtual_type': None, 'fulfillment_ty...</td>\n",
       "      <td>[{'name': 'Thời gian bảo hành', 'value': '1 Th...</td>\n",
       "      <td>Đổi trả trong&lt;br&gt;&lt;b&gt;7 ngày&lt;/b&gt;&lt;br&gt;nếu sp lỗi.</td>\n",
       "      <td>False</td>\n",
       "      <td>False</td>\n",
       "      <td>{'sep': 0, 'rate': 213, 'astra_convert_rate': ...</td>\n",
       "      <td>[{'icon': 'https://salt.tikicdn.com/ts/upload/...</td>\n",
       "      <td>{'sub_title': 'Giá từ 107.900 ₫', 'title': '9 ...</td>\n",
       "      <td>NaN</td>\n",
       "      <td>NaN</td>\n",
       "    </tr>\n",
       "    <tr>\n",
       "      <th>4</th>\n",
       "      <td>46634155</td>\n",
       "      <td>46634155</td>\n",
       "      <td>7172023663098</td>\n",
       "      <td>Dây Cáp Mạng Cat6 Bấm Sẵn 2 đầu</td>\n",
       "      <td>day-cap-mang-cat6-bam-san-2-dau-p46634155</td>\n",
       "      <td>day-cap-mang-cat6-bam-san-2-dau-p46634155.html...</td>\n",
       "      <td>https://tiki.vn/product-p46634155.html?spid=16...</td>\n",
       "      <td>configurable</td>\n",
       "      <td>None</td>\n",
       "      <td>Vỏ bọc bên ngoài làm bằng nhựa PVC nguyên chất...</td>\n",
       "      <td>...</td>\n",
       "      <td>{'product_virtual_type': None, 'fulfillment_ty...</td>\n",
       "      <td>[{'name': 'Hướng dẫn bảo hành', 'value': 'Xem ...</td>\n",
       "      <td>Đổi trả trong&lt;br&gt;&lt;b&gt;7 ngày&lt;/b&gt;&lt;br&gt;nếu sp lỗi.</td>\n",
       "      <td>False</td>\n",
       "      <td>False</td>\n",
       "      <td>{'sep': 0, 'rate': 213, 'astra_convert_rate': ...</td>\n",
       "      <td>[{'icon': 'https://salt.tikicdn.com/ts/upload/...</td>\n",
       "      <td>{'sub_title': 'Giá từ 24.900 ₫', 'title': '2 n...</td>\n",
       "      <td>NaN</td>\n",
       "      <td>NaN</td>\n",
       "    </tr>\n",
       "  </tbody>\n",
       "</table>\n",
       "<p>5 rows × 70 columns</p>\n",
       "</div>"
      ],
      "text/plain": [
       "          id  master_id            sku   \n",
       "0   38323087   38323087  9386902161867  \\\n",
       "1   26314426   26314426  9365508570174   \n",
       "2  134561311  134561311  8367091212771   \n",
       "3    8608925    8608925  6460064428402   \n",
       "4   46634155   46634155  7172023663098   \n",
       "\n",
       "                                                name   \n",
       "0  (Giá Hủy Diệt) Ổ Cứng Di Động HDD WD My Passpo...  \\\n",
       "1                    Dây Cáp Mạng Cat6 Bấm Sẵn 2 đầu   \n",
       "2  USB 3.0 SanDisk Ultra Flair CZ73 - Hàng Nhập Khẩu   \n",
       "3   Hộp mực dành cho máy in Laser Brother HL-L2321D.   \n",
       "4                    Dây Cáp Mạng Cat6 Bấm Sẵn 2 đầu   \n",
       "\n",
       "                                             url_key   \n",
       "0  o-cung-di-dong-wd-my-passport-model-2019-hang-...  \\\n",
       "1          day-cap-mang-cat6-bam-san-2-dau-p26314426   \n",
       "2  usb-3-0-sandisk-ultra-flair-cz73-64gb-hang-nha...   \n",
       "3    hop-muc-may-in-laser-brother-hl-l2321d-p8608925   \n",
       "4          day-cap-mang-cat6-bam-san-2-dau-p46634155   \n",
       "\n",
       "                                            url_path   \n",
       "0  o-cung-di-dong-wd-my-passport-model-2019-hang-...  \\\n",
       "1  day-cap-mang-cat6-bam-san-2-dau-p26314426.html...   \n",
       "2  usb-3-0-sandisk-ultra-flair-cz73-64gb-hang-nha...   \n",
       "3  hop-muc-may-in-laser-brother-hl-l2321d-p860892...   \n",
       "4  day-cap-mang-cat6-bam-san-2-dau-p46634155.html...   \n",
       "\n",
       "                                           short_url          type book_cover   \n",
       "0  https://tiki.vn/product-p38323087.html?spid=53...  configurable       None  \\\n",
       "1  https://tiki.vn/product-p26314426.html?spid=14...  configurable       None   \n",
       "2  https://tiki.vn/product-p134561311.html?spid=9...  configurable       None   \n",
       "3  https://tiki.vn/product-p8608925.html?spid=263...        simple       None   \n",
       "4  https://tiki.vn/product-p46634155.html?spid=16...  configurable       None   \n",
       "\n",
       "                                   short_description  ...   \n",
       "0   Thông số kỹ thuật WD My Passport màu đen mode...  ...  \\\n",
       "1  + Cáp mạng CAT6 UTP được sử dụng chất liệu CCA...  ...   \n",
       "2  Phần mềm bảo vệ và chống truy cập trái phép Se...  ...   \n",
       "3  Hộp mực TN-2385/2325... hàng thay thế thích hợ...  ...   \n",
       "4  Vỏ bọc bên ngoài làm bằng nhựa PVC nguyên chất...  ...   \n",
       "\n",
       "                                           inventory   \n",
       "0  {'product_virtual_type': None, 'fulfillment_ty...  \\\n",
       "1  {'product_virtual_type': None, 'fulfillment_ty...   \n",
       "2  {'product_virtual_type': None, 'fulfillment_ty...   \n",
       "3  {'product_virtual_type': None, 'fulfillment_ty...   \n",
       "4  {'product_virtual_type': None, 'fulfillment_ty...   \n",
       "\n",
       "                                       warranty_info   \n",
       "0  [{'name': 'Thời gian bảo hành', 'value': '36 T...  \\\n",
       "1  [{'name': 'Hướng dẫn bảo hành', 'value': 'Xem ...   \n",
       "2  [{'name': 'Thời gian bảo hành', 'value': '5 Nă...   \n",
       "3  [{'name': 'Thời gian bảo hành', 'value': '1 Th...   \n",
       "4  [{'name': 'Hướng dẫn bảo hành', 'value': 'Xem ...   \n",
       "\n",
       "                      return_and_exchange_policy is_tier_pricing_available   \n",
       "0  Đổi trả trong<br><b>7 ngày</b><br>nếu sp lỗi.                     False  \\\n",
       "1  Đổi trả trong<br><b>7 ngày</b><br>nếu sp lỗi.                     False   \n",
       "2  Đổi trả trong<br><b>7 ngày</b><br>nếu sp lỗi.                     False   \n",
       "3  Đổi trả trong<br><b>7 ngày</b><br>nếu sp lỗi.                     False   \n",
       "4  Đổi trả trong<br><b>7 ngày</b><br>nếu sp lỗi.                     False   \n",
       "\n",
       "  is_tier_pricing_eligible                                asa_cashback_widget   \n",
       "0                    False  {'sep': 0, 'rate': 213, 'astra_convert_rate': ...  \\\n",
       "1                    False  {'sep': 0, 'rate': 213, 'astra_convert_rate': ...   \n",
       "2                    False  {'sep': 0, 'rate': 213, 'astra_convert_rate': ...   \n",
       "3                    False  {'sep': 0, 'rate': 213, 'astra_convert_rate': ...   \n",
       "4                    False  {'sep': 0, 'rate': 213, 'astra_convert_rate': ...   \n",
       "\n",
       "                                            benefits   \n",
       "0  [{'icon': 'https://salt.tikicdn.com/ts/upload/...  \\\n",
       "1  [{'icon': 'https://salt.tikicdn.com/ts/upload/...   \n",
       "2  [{'icon': 'https://salt.tikicdn.com/ts/upload/...   \n",
       "3  [{'icon': 'https://salt.tikicdn.com/ts/upload/...   \n",
       "4  [{'icon': 'https://salt.tikicdn.com/ts/upload/...   \n",
       "\n",
       "                                    price_comparison  video_url   \n",
       "0                                                NaN        NaN  \\\n",
       "1  {'sub_title': 'Giá từ 32.650 ₫', 'title': '6 n...        NaN   \n",
       "2                                                NaN        NaN   \n",
       "3  {'sub_title': 'Giá từ 107.900 ₫', 'title': '9 ...        NaN   \n",
       "4  {'sub_title': 'Giá từ 24.900 ₫', 'title': '2 n...        NaN   \n",
       "\n",
       "  best_price_guaranteed  \n",
       "0                   NaN  \n",
       "1                   NaN  \n",
       "2                   NaN  \n",
       "3                   NaN  \n",
       "4                   NaN  \n",
       "\n",
       "[5 rows x 70 columns]"
      ]
     },
     "execution_count": 81,
     "metadata": {},
     "output_type": "execute_result"
    }
   ],
   "source": [
    "df_product.head()"
   ]
  },
  {
   "cell_type": "code",
   "execution_count": 82,
   "metadata": {},
   "outputs": [
    {
     "data": {
      "text/html": [
       "<div>\n",
       "<style scoped>\n",
       "    .dataframe tbody tr th:only-of-type {\n",
       "        vertical-align: middle;\n",
       "    }\n",
       "\n",
       "    .dataframe tbody tr th {\n",
       "        vertical-align: top;\n",
       "    }\n",
       "\n",
       "    .dataframe thead th {\n",
       "        text-align: right;\n",
       "    }\n",
       "</style>\n",
       "<table border=\"1\" class=\"dataframe\">\n",
       "  <thead>\n",
       "    <tr style=\"text-align: right;\">\n",
       "      <th></th>\n",
       "      <th>id</th>\n",
       "      <th>name</th>\n",
       "      <th>sku</th>\n",
       "      <th>price</th>\n",
       "      <th>list_price</th>\n",
       "      <th>discount</th>\n",
       "      <th>discount_rate</th>\n",
       "      <th>inventory_status</th>\n",
       "      <th>all_time_quantity_sold</th>\n",
       "    </tr>\n",
       "  </thead>\n",
       "  <tbody>\n",
       "    <tr>\n",
       "      <th>0</th>\n",
       "      <td>38323087</td>\n",
       "      <td>(Giá Hủy Diệt) Ổ Cứng Di Động HDD WD My Passpo...</td>\n",
       "      <td>9386902161867</td>\n",
       "      <td>1385000</td>\n",
       "      <td>1390000</td>\n",
       "      <td>5000</td>\n",
       "      <td>0</td>\n",
       "      <td>available</td>\n",
       "      <td>2244</td>\n",
       "    </tr>\n",
       "    <tr>\n",
       "      <th>1</th>\n",
       "      <td>26314426</td>\n",
       "      <td>Dây Cáp Mạng Cat6 Bấm Sẵn 2 đầu</td>\n",
       "      <td>9365508570174</td>\n",
       "      <td>75000</td>\n",
       "      <td>75000</td>\n",
       "      <td>0</td>\n",
       "      <td>0</td>\n",
       "      <td>available</td>\n",
       "      <td>1120</td>\n",
       "    </tr>\n",
       "    <tr>\n",
       "      <th>2</th>\n",
       "      <td>134561311</td>\n",
       "      <td>USB 3.0 SanDisk Ultra Flair CZ73 - Hàng Nhập Khẩu</td>\n",
       "      <td>8367091212771</td>\n",
       "      <td>110000</td>\n",
       "      <td>110000</td>\n",
       "      <td>0</td>\n",
       "      <td>0</td>\n",
       "      <td>available</td>\n",
       "      <td>9979</td>\n",
       "    </tr>\n",
       "    <tr>\n",
       "      <th>3</th>\n",
       "      <td>8608925</td>\n",
       "      <td>Hộp mực dành cho máy in Laser Brother HL-L2321D.</td>\n",
       "      <td>6460064428402</td>\n",
       "      <td>111900</td>\n",
       "      <td>111900</td>\n",
       "      <td>0</td>\n",
       "      <td>0</td>\n",
       "      <td>available</td>\n",
       "      <td>2638</td>\n",
       "    </tr>\n",
       "    <tr>\n",
       "      <th>4</th>\n",
       "      <td>46634155</td>\n",
       "      <td>Dây Cáp Mạng Cat6 Bấm Sẵn 2 đầu</td>\n",
       "      <td>7172023663098</td>\n",
       "      <td>48000</td>\n",
       "      <td>48000</td>\n",
       "      <td>0</td>\n",
       "      <td>0</td>\n",
       "      <td>available</td>\n",
       "      <td>490</td>\n",
       "    </tr>\n",
       "  </tbody>\n",
       "</table>\n",
       "</div>"
      ],
      "text/plain": [
       "          id                                               name   \n",
       "0   38323087  (Giá Hủy Diệt) Ổ Cứng Di Động HDD WD My Passpo...  \\\n",
       "1   26314426                    Dây Cáp Mạng Cat6 Bấm Sẵn 2 đầu   \n",
       "2  134561311  USB 3.0 SanDisk Ultra Flair CZ73 - Hàng Nhập Khẩu   \n",
       "3    8608925   Hộp mực dành cho máy in Laser Brother HL-L2321D.   \n",
       "4   46634155                    Dây Cáp Mạng Cat6 Bấm Sẵn 2 đầu   \n",
       "\n",
       "             sku    price  list_price  discount  discount_rate   \n",
       "0  9386902161867  1385000     1390000      5000              0  \\\n",
       "1  9365508570174    75000       75000         0              0   \n",
       "2  8367091212771   110000      110000         0              0   \n",
       "3  6460064428402   111900      111900         0              0   \n",
       "4  7172023663098    48000       48000         0              0   \n",
       "\n",
       "  inventory_status  all_time_quantity_sold  \n",
       "0        available                    2244  \n",
       "1        available                    1120  \n",
       "2        available                    9979  \n",
       "3        available                    2638  \n",
       "4        available                     490  "
      ]
     },
     "execution_count": 82,
     "metadata": {},
     "output_type": "execute_result"
    }
   ],
   "source": [
    "df_trans = df_product[['id', 'name', 'sku', 'price', 'list_price', 'discount', 'discount_rate', 'inventory_status', 'all_time_quantity_sold']]\n",
    "df_trans.head()"
   ]
  },
  {
   "cell_type": "code",
   "execution_count": 83,
   "metadata": {},
   "outputs": [],
   "source": [
    "# stock_item: max_sale_qty, qty\n",
    "# brand: id, name\n",
    "df_stock = df_product['stock_item'].apply(pd.Series)\n",
    "df_brand = df_product['brand'].apply(pd.Series)\n",
    "df_stock = df_stock[['max_sale_qty', 'qty']]\n",
    "df_brand = df_brand[['id', 'name']]\n",
    "df_brand.rename(columns={'id': 'brand_id', 'name': 'brand_name'}, inplace=True)"
   ]
  },
  {
   "cell_type": "code",
   "execution_count": 84,
   "metadata": {},
   "outputs": [
    {
     "data": {
      "text/html": [
       "<div>\n",
       "<style scoped>\n",
       "    .dataframe tbody tr th:only-of-type {\n",
       "        vertical-align: middle;\n",
       "    }\n",
       "\n",
       "    .dataframe tbody tr th {\n",
       "        vertical-align: top;\n",
       "    }\n",
       "\n",
       "    .dataframe thead th {\n",
       "        text-align: right;\n",
       "    }\n",
       "</style>\n",
       "<table border=\"1\" class=\"dataframe\">\n",
       "  <thead>\n",
       "    <tr style=\"text-align: right;\">\n",
       "      <th></th>\n",
       "      <th>id</th>\n",
       "      <th>name</th>\n",
       "      <th>sku</th>\n",
       "      <th>price</th>\n",
       "      <th>list_price</th>\n",
       "      <th>discount</th>\n",
       "      <th>discount_rate</th>\n",
       "      <th>inventory_status</th>\n",
       "      <th>all_time_quantity_sold</th>\n",
       "      <th>max_sale_qty</th>\n",
       "      <th>qty</th>\n",
       "      <th>brand_id</th>\n",
       "      <th>brand_name</th>\n",
       "    </tr>\n",
       "  </thead>\n",
       "  <tbody>\n",
       "    <tr>\n",
       "      <th>0</th>\n",
       "      <td>38323087</td>\n",
       "      <td>(Giá Hủy Diệt) Ổ Cứng Di Động HDD WD My Passpo...</td>\n",
       "      <td>9386902161867</td>\n",
       "      <td>1385000</td>\n",
       "      <td>1390000</td>\n",
       "      <td>5000</td>\n",
       "      <td>0</td>\n",
       "      <td>available</td>\n",
       "      <td>2244</td>\n",
       "      <td>1000.0</td>\n",
       "      <td>1000.0</td>\n",
       "      <td>21862</td>\n",
       "      <td>WD</td>\n",
       "    </tr>\n",
       "    <tr>\n",
       "      <th>1</th>\n",
       "      <td>26314426</td>\n",
       "      <td>Dây Cáp Mạng Cat6 Bấm Sẵn 2 đầu</td>\n",
       "      <td>9365508570174</td>\n",
       "      <td>75000</td>\n",
       "      <td>75000</td>\n",
       "      <td>0</td>\n",
       "      <td>0</td>\n",
       "      <td>available</td>\n",
       "      <td>1120</td>\n",
       "      <td>1000.0</td>\n",
       "      <td>1000.0</td>\n",
       "      <td>111461</td>\n",
       "      <td>OEM</td>\n",
       "    </tr>\n",
       "    <tr>\n",
       "      <th>2</th>\n",
       "      <td>134561311</td>\n",
       "      <td>USB 3.0 SanDisk Ultra Flair CZ73 - Hàng Nhập Khẩu</td>\n",
       "      <td>8367091212771</td>\n",
       "      <td>110000</td>\n",
       "      <td>110000</td>\n",
       "      <td>0</td>\n",
       "      <td>0</td>\n",
       "      <td>available</td>\n",
       "      <td>9979</td>\n",
       "      <td>1000.0</td>\n",
       "      <td>1000.0</td>\n",
       "      <td>18845</td>\n",
       "      <td>SanDisk</td>\n",
       "    </tr>\n",
       "    <tr>\n",
       "      <th>3</th>\n",
       "      <td>8608925</td>\n",
       "      <td>Hộp mực dành cho máy in Laser Brother HL-L2321D.</td>\n",
       "      <td>6460064428402</td>\n",
       "      <td>111900</td>\n",
       "      <td>111900</td>\n",
       "      <td>0</td>\n",
       "      <td>0</td>\n",
       "      <td>available</td>\n",
       "      <td>2638</td>\n",
       "      <td>1000.0</td>\n",
       "      <td>1000.0</td>\n",
       "      <td>111461</td>\n",
       "      <td>OEM</td>\n",
       "    </tr>\n",
       "    <tr>\n",
       "      <th>4</th>\n",
       "      <td>46634155</td>\n",
       "      <td>Dây Cáp Mạng Cat6 Bấm Sẵn 2 đầu</td>\n",
       "      <td>7172023663098</td>\n",
       "      <td>48000</td>\n",
       "      <td>48000</td>\n",
       "      <td>0</td>\n",
       "      <td>0</td>\n",
       "      <td>available</td>\n",
       "      <td>490</td>\n",
       "      <td>1000.0</td>\n",
       "      <td>1000.0</td>\n",
       "      <td>111461</td>\n",
       "      <td>OEM</td>\n",
       "    </tr>\n",
       "  </tbody>\n",
       "</table>\n",
       "</div>"
      ],
      "text/plain": [
       "          id                                               name   \n",
       "0   38323087  (Giá Hủy Diệt) Ổ Cứng Di Động HDD WD My Passpo...  \\\n",
       "1   26314426                    Dây Cáp Mạng Cat6 Bấm Sẵn 2 đầu   \n",
       "2  134561311  USB 3.0 SanDisk Ultra Flair CZ73 - Hàng Nhập Khẩu   \n",
       "3    8608925   Hộp mực dành cho máy in Laser Brother HL-L2321D.   \n",
       "4   46634155                    Dây Cáp Mạng Cat6 Bấm Sẵn 2 đầu   \n",
       "\n",
       "             sku    price  list_price  discount  discount_rate   \n",
       "0  9386902161867  1385000     1390000      5000              0  \\\n",
       "1  9365508570174    75000       75000         0              0   \n",
       "2  8367091212771   110000      110000         0              0   \n",
       "3  6460064428402   111900      111900         0              0   \n",
       "4  7172023663098    48000       48000         0              0   \n",
       "\n",
       "  inventory_status  all_time_quantity_sold  max_sale_qty     qty  brand_id   \n",
       "0        available                    2244        1000.0  1000.0     21862  \\\n",
       "1        available                    1120        1000.0  1000.0    111461   \n",
       "2        available                    9979        1000.0  1000.0     18845   \n",
       "3        available                    2638        1000.0  1000.0    111461   \n",
       "4        available                     490        1000.0  1000.0    111461   \n",
       "\n",
       "  brand_name  \n",
       "0         WD  \n",
       "1        OEM  \n",
       "2    SanDisk  \n",
       "3        OEM  \n",
       "4        OEM  "
      ]
     },
     "execution_count": 84,
     "metadata": {},
     "output_type": "execute_result"
    }
   ],
   "source": [
    "df_final = pd.concat([df_trans, df_stock, df_brand], axis=1)\n",
    "df_final.head()"
   ]
  },
  {
   "cell_type": "code",
   "execution_count": 91,
   "metadata": {},
   "outputs": [],
   "source": [
    "df_product.to_csv(\"product_full_details.csv\", encoding='utf-8-sig')\n",
    "df_final.to_csv(\"product_short_detials.csv\", encoding='utf-8-sig')"
   ]
  }
 ],
 "metadata": {
  "kernelspec": {
   "display_name": "Python 3",
   "language": "python",
   "name": "python3"
  },
  "language_info": {
   "codemirror_mode": {
    "name": "ipython",
    "version": 3
   },
   "file_extension": ".py",
   "mimetype": "text/x-python",
   "name": "python",
   "nbconvert_exporter": "python",
   "pygments_lexer": "ipython3",
   "version": "3.10.11"
  },
  "orig_nbformat": 4
 },
 "nbformat": 4,
 "nbformat_minor": 2
}
